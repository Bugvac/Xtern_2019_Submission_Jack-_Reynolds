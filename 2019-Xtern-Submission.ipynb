{
 "cells": [
  {
   "cell_type": "code",
   "execution_count": 1,
   "metadata": {},
   "outputs": [],
   "source": [
    "#Import Required Packages\n",
    "import numpy as np\n",
    "import pandas as pd\n",
    "import seaborn as sns\n",
    "import matplotlib.pyplot as plt\n",
    "from scipy import stats\n",
    "from scipy.spatial.distance import cdist as cdst"
   ]
  },
  {
   "cell_type": "code",
   "execution_count": 2,
   "metadata": {},
   "outputs": [
    {
     "data": {
      "image/png": "[encoded data removed]",
      "text/plain": [
       "<Figure size 432x288 with 2 Axes>"
      ]
     },
     "metadata": {
      "needs_background": "light"
     },
     "output_type": "display_data"
    }
   ],
   "source": [
    "#Import Data Set\n",
    "Raw_df = pd.read_csv('Data.csv')\n",
    "#print(Raw_df)\n",
    "#Raw_df = Raw_df[Raw_df['power_level']==5]\n",
    "#sns.jointplot(x= Raw_df['xcoordinate'], y= Raw_df['ycoordinate'], kind='kde')\n",
    "#plt.show()\n",
    "#plt.close()\n",
    "#All power_bar levels are aproxmantly equally distributed within the 19 concetrated scooter zones\n",
    "#Checked with Seaborne jointplot\n",
    "plt.hist2d(x= Raw_df['xcoordinate'], y= Raw_df['ycoordinate'], bins = np.linspace(-0.5,1.5,400), cmap=plt.cm.BuPu)\n",
    "plt.colorbar()\n",
    "plt.show()\n",
    "plt.close()\n",
    "\n",
    "#The highest concentration scooter zone is ~(0.23, 0.15) with 18 other nodes of hih concentration.\n",
    "#These nodes are close to 2D-Gaussian distributions so they can be well aproxmated by circles.\n",
    "#All of the nodes are within the same 2 square mile area which is far from the bus station at (20.19,20.19)"
   ]
  },
  {
   "cell_type": "code",
   "execution_count": null,
   "metadata": {},
   "outputs": [],
   "source": [
    "#Assumptions\n",
    "##The bus travels at 50 miles per hour at all times, except when it is stopped at the station (20.19,20.19) where crews can relax while scooters inside the bus are charging.\n",
    "##The bus can also hold 20 scooters at any one time\n",
    "#Methodology\n",
    "##We will try to minimize charging time\n",
    "##So overall the bus will preference scooters with theese proirities, in this order:\n",
    "###1. If the bus is empty it will preference the closest scooter, allowing for a variety of different charging time should lead to less waiting time between pickups\n",
    "###2. If the bus is full it will attempt to find a scooter to travel to that will align with the charging time necessary to drop a fully charged scooter off.  This will also minimize down time.\n",
    "###3. If no scooters fall outside the range for number 2 the bus will move back to the station and wait if a scooter has not finished charging by the time it arrives.\n",
    "#Discussion\n",
    "##While the measures taken is step 3 are not the most effective, as it would be more efficient to travel in the opposite direction as the next closest scooter to the inside of the charging radius, it does give the bus workers an occasional break and is computationaly simplier.\n",
    "##The bigest loss portion is the fact that the bus waits until a scooter is charged to leave the station.  Ideally, the bus would take into account how long it would take to reach the next scooter and leave acording to that.\n",
    "##It is also worthwile to consider that each node could be mapped using a random seclection of start points and considered via k-nearest neighbor methodologies for a possible increase in efficency but once the bus is filled the result likely would look very similar.\n",
    "##The KNN mapping could also need to be redone for each 'round' of bus filling.  This would be computationally intensive though.\n",
    "##All in all I took a simplier approach due to both the limitations of my hardware and the time I had to complete the project, but I would like to explore these options in the future."
   ]
  },
  {
   "cell_type": "code",
   "execution_count": null,
   "metadata": {},
   "outputs": [],
   "source": [
    "Raw_df = pd.read_csv('Data.csv')\n",
    "Raw_df = Raw_df[Raw_df['power_level']!=5]\n",
    "Raw_df['coords'] = Raw_df[['xcoordinate','ycoordinate']].values.tolist()\n",
    "class Bus():\n",
    "    def __init__(self, Total_Time = 0, dataframe = Raw_df, location = [20.19,20.19], contents = [], velocity = 50, capacity = 20):\n",
    "        self.Total_Time = Total_Time\n",
    "        self.dataframe = dataframe\n",
    "        self.velocity = velocity\n",
    "        self.location = location\n",
    "        self.contents = contents\n",
    "        self.capacity = capacity\n",
    "    def cycle(self):\n",
    "        self.dataframe['distance'] = self.dataframe['coords'].apply(lambda x: abs(cdst([x], [self.location], metric='euclidean')))\n",
    "        print('scooters:  ' + str(np.size(self.contents)))\n",
    "        if np.size(self.contents) != self.capacity and self.dataframe.shape[0] != 0:\n",
    "            loc_dx = self.dataframe['distance'].astype('float64').idxmin()\n",
    "            print('New index loc(fill):  ' + str(self.dataframe['coords'][loc_dx]))\n",
    "            Time_Traveled = self.dataframe['distance'][loc_dx]/self.velocity\n",
    "            self.Total_Time = self.Total_Time + Time_Traveled\n",
    "            if np.size(self.contents) != 0: #If there is open space, fill it as soon as possible\n",
    "                self.contents = [x + Time_Traveled for x in self.contents]\n",
    "            self.location = self.dataframe['coords'][loc_dx]\n",
    "            self.contents.append(self.dataframe['power_level'][loc_dx])\n",
    "            self.dataframe = self.dataframe.drop([loc_dx], axis = 0)\n",
    "        else: #find next target scooter\n",
    "            Dist_to_next_charge = 5 - self.contents.index(max(self.contents))*50\n",
    "            self.dataframe['opt_dist'] = self.dataframe['distance'].apply(lambda x: x - Dist_to_next_charge)\n",
    "            loc_dx = self.dataframe.loc[self.dataframe['opt_dist'] > 0, 'opt_dist'].min()\n",
    "            if type(loc_dx) == int: #If possible go dircetly to an uncharged scooter with a fully cahrged one\n",
    "                Time_Traveled = self.dataframe['distance'][loc_dx]/self.velocity\n",
    "                self.Total_Time = self.Total_Time + Time_Traveled\n",
    "                self.location = self.dataframe['coords'][loc_dx]\n",
    "                self.contents = [x + Time_Traveled for x in self.contents]\n",
    "                self.contents.append(self.dataframe['power_level'][loc_dx])\n",
    "                self.dataframe = self.dataframe.drop[loc_dx]\n",
    "                print('New index loc(fill2):  ' + str(self.dataframe['coords'][loc_dx]))\n",
    "            elif self.location != [20.19,20.19]: #Traveling to the station\n",
    "                Dist_Station = abs(cdst([[20.19,20.19]], [self.location], metric='euclidean'))\n",
    "                Time_Traveled = Dist_Station/self.velocity\n",
    "                self.Total_Time = self.Total_Time + Time_Traveled\n",
    "                self.contents = [x + Time_Traveled for x in self.contents]\n",
    "                self.location = [20.19,20.19]\n",
    "                print('New index loc(station):  ' + str(self.location))\n",
    "            else: #Waiting at the station\n",
    "                Time_Traveled = 0.1\n",
    "                self.Total_Time = self.Total_Time + Time_Traveled\n",
    "                self.contents = [x + Time_Traveled for x in self.contents]\n",
    "                print('New index loc(wait):  ' + str(self.location))\n",
    "        for x in self.contents: #Scooter drop off\n",
    "            if x >= 5:\n",
    "                self.contents.remove(x)\n",
    "                \n",
    "B = Bus()\n",
    "while B.dataframe.shape[0] != 0:\n",
    "    B.cycle()\n",
    "    print('Scooters Remaining: ' + str(B.dataframe.shape[0]))\n",
    "print('Total time to charge all scooters:' + str(B.Total_Time))"
   ]
  },
  {
   "cell_type": "code",
   "execution_count": null,
   "metadata": {},
   "outputs": [],
   "source": [
    "#Total time to charge all scooters: 3685.039 Hours\n",
    "#Perfect time (if all 20 chargers we always running and there was no travel time): 3203.45 Hours\n",
    "#Total effiecncy: 86.93%\n",
    "\n",
    "#While theniterative process was not particularly fast to run I belive it was an effective solution, even if a little quick and dirty in its construction.\n",
    "#The existinig code also lay a good frame work for future improvement\n",
    "#Unfortunatly the fill2, which was the most time efficent option, rarely triggers due to the constant velocity of the bus.  A future model could imporve upon this by altering the spped to be lower depending on the target (assuming the 50mph is an upper limit).\n",
    "\n",
    "#I had a lot of fun figuring out this problem.  Regaurdless of the end result i would love feedback on my work, methodolgy, code or otherwise.\n",
    "#The way that acidemic research, specifically and especially physics, is often condsidered \"quick and dirty\" so I've tried to mimic a different style of coding thatn I normally do\n"
   ]
  }
 ],
 "metadata": {
  "kernelspec": {
   "display_name": "Python 3",
   "language": "python",
   "name": "python3"
  },
  "language_info": {
   "codemirror_mode": {
    "name": "ipython",
    "version": 3
   },
   "file_extension": ".py",
   "mimetype": "text/x-python",
   "name": "python",
   "nbconvert_exporter": "python",
   "pygments_lexer": "ipython3",
   "version": "3.7.3"
  }
 },
 "nbformat": 4,
 "nbformat_minor": 2
}
